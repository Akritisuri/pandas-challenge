{
 "cells": [
  {
   "cell_type": "code",
   "execution_count": 4,
   "metadata": {},
   "outputs": [],
   "source": [
    "import pandas as pd\n",
    "import numpy as np"
   ]
  },
  {
   "cell_type": "code",
   "execution_count": 5,
   "metadata": {},
   "outputs": [],
   "source": [
    "# upload the file\n",
    "file_to_load = \"Resources/purchase_data.csv\""
   ]
  },
  {
   "cell_type": "code",
   "execution_count": 6,
   "metadata": {},
   "outputs": [],
   "source": [
    "# read the file\n",
    "purchase_df = pd.read_csv(file_to_load)"
   ]
  },
  {
   "cell_type": "code",
   "execution_count": 7,
   "metadata": {},
   "outputs": [
    {
     "data": {
      "text/html": [
       "<div>\n",
       "<style scoped>\n",
       "    .dataframe tbody tr th:only-of-type {\n",
       "        vertical-align: middle;\n",
       "    }\n",
       "\n",
       "    .dataframe tbody tr th {\n",
       "        vertical-align: top;\n",
       "    }\n",
       "\n",
       "    .dataframe thead th {\n",
       "        text-align: right;\n",
       "    }\n",
       "</style>\n",
       "<table border=\"1\" class=\"dataframe\">\n",
       "  <thead>\n",
       "    <tr style=\"text-align: right;\">\n",
       "      <th></th>\n",
       "      <th>Purchase ID</th>\n",
       "      <th>SN</th>\n",
       "      <th>Age</th>\n",
       "      <th>Gender</th>\n",
       "      <th>Item ID</th>\n",
       "      <th>Item Name</th>\n",
       "      <th>Price</th>\n",
       "    </tr>\n",
       "  </thead>\n",
       "  <tbody>\n",
       "    <tr>\n",
       "      <th>0</th>\n",
       "      <td>0</td>\n",
       "      <td>Lisim78</td>\n",
       "      <td>20</td>\n",
       "      <td>Male</td>\n",
       "      <td>108</td>\n",
       "      <td>Extraction, Quickblade Of Trembling Hands</td>\n",
       "      <td>3.53</td>\n",
       "    </tr>\n",
       "    <tr>\n",
       "      <th>1</th>\n",
       "      <td>1</td>\n",
       "      <td>Lisovynya38</td>\n",
       "      <td>40</td>\n",
       "      <td>Male</td>\n",
       "      <td>143</td>\n",
       "      <td>Frenzied Scimitar</td>\n",
       "      <td>1.56</td>\n",
       "    </tr>\n",
       "    <tr>\n",
       "      <th>2</th>\n",
       "      <td>2</td>\n",
       "      <td>Ithergue48</td>\n",
       "      <td>24</td>\n",
       "      <td>Male</td>\n",
       "      <td>92</td>\n",
       "      <td>Final Critic</td>\n",
       "      <td>4.88</td>\n",
       "    </tr>\n",
       "    <tr>\n",
       "      <th>3</th>\n",
       "      <td>3</td>\n",
       "      <td>Chamassasya86</td>\n",
       "      <td>24</td>\n",
       "      <td>Male</td>\n",
       "      <td>100</td>\n",
       "      <td>Blindscythe</td>\n",
       "      <td>3.27</td>\n",
       "    </tr>\n",
       "    <tr>\n",
       "      <th>4</th>\n",
       "      <td>4</td>\n",
       "      <td>Iskosia90</td>\n",
       "      <td>23</td>\n",
       "      <td>Male</td>\n",
       "      <td>131</td>\n",
       "      <td>Fury</td>\n",
       "      <td>1.44</td>\n",
       "    </tr>\n",
       "  </tbody>\n",
       "</table>\n",
       "</div>"
      ],
      "text/plain": [
       "   Purchase ID             SN  Age Gender  Item ID  \\\n",
       "0            0        Lisim78   20   Male      108   \n",
       "1            1    Lisovynya38   40   Male      143   \n",
       "2            2     Ithergue48   24   Male       92   \n",
       "3            3  Chamassasya86   24   Male      100   \n",
       "4            4      Iskosia90   23   Male      131   \n",
       "\n",
       "                                   Item Name  Price  \n",
       "0  Extraction, Quickblade Of Trembling Hands   3.53  \n",
       "1                          Frenzied Scimitar   1.56  \n",
       "2                               Final Critic   4.88  \n",
       "3                                Blindscythe   3.27  \n",
       "4                                       Fury   1.44  "
      ]
     },
     "execution_count": 7,
     "metadata": {},
     "output_type": "execute_result"
    }
   ],
   "source": [
    "# print the table for display\n",
    "purchase_df.head()"
   ]
  },
  {
   "cell_type": "code",
   "execution_count": 8,
   "metadata": {},
   "outputs": [
    {
     "data": {
      "text/html": [
       "<div>\n",
       "<style scoped>\n",
       "    .dataframe tbody tr th:only-of-type {\n",
       "        vertical-align: middle;\n",
       "    }\n",
       "\n",
       "    .dataframe tbody tr th {\n",
       "        vertical-align: top;\n",
       "    }\n",
       "\n",
       "    .dataframe thead th {\n",
       "        text-align: right;\n",
       "    }\n",
       "</style>\n",
       "<table border=\"1\" class=\"dataframe\">\n",
       "  <thead>\n",
       "    <tr style=\"text-align: right;\">\n",
       "      <th></th>\n",
       "      <th>Total Players</th>\n",
       "    </tr>\n",
       "  </thead>\n",
       "  <tbody>\n",
       "    <tr>\n",
       "      <th>0</th>\n",
       "      <td>576</td>\n",
       "    </tr>\n",
       "  </tbody>\n",
       "</table>\n",
       "</div>"
      ],
      "text/plain": [
       "   Total Players\n",
       "0            576"
      ]
     },
     "execution_count": 8,
     "metadata": {},
     "output_type": "execute_result"
    }
   ],
   "source": [
    "# Calculate the number of unique total players\n",
    "total_players = len(purchase_df[\"SN\"].unique())\n",
    "# Create a data table with the count above\n",
    "player_count = pd.DataFrame({\"Total Players\": total_players}, index = [0])\n",
    "player_count"
   ]
  },
  {
   "cell_type": "code",
   "execution_count": 9,
   "metadata": {},
   "outputs": [],
   "source": [
    "# Calculate the number of unique items, average price, number of purchases, and the total revenue\n",
    "unique_items = len((purchase_df[\"Item Name\"]).unique())\n",
    "average_price =(purchase_df[\"Price\"]).mean()\n",
    "number_of_purchases = (purchase_df[\"Purchase ID\"]).count()\n",
    "total_revenue = (purchase_df[\"Price\"]).sum()\n"
   ]
  },
  {
   "cell_type": "code",
   "execution_count": 10,
   "metadata": {},
   "outputs": [
    {
     "data": {
      "text/html": [
       "<style  type=\"text/css\" >\n",
       "</style><table id=\"T_e74cc396_f837_11ea_812a_820c6a06c401\" ><thead>    <tr>        <th class=\"blank level0\" ></th>        <th class=\"col_heading level0 col0\" >Number of Unique Items</th>        <th class=\"col_heading level0 col1\" >Average Price</th>        <th class=\"col_heading level0 col2\" >Number of Purchases</th>        <th class=\"col_heading level0 col3\" >Total Revenue</th>    </tr></thead><tbody>\n",
       "                <tr>\n",
       "                        <th id=\"T_e74cc396_f837_11ea_812a_820c6a06c401level0_row0\" class=\"row_heading level0 row0\" >0</th>\n",
       "                        <td id=\"T_e74cc396_f837_11ea_812a_820c6a06c401row0_col0\" class=\"data row0 col0\" >179</td>\n",
       "                        <td id=\"T_e74cc396_f837_11ea_812a_820c6a06c401row0_col1\" class=\"data row0 col1\" >$3.05</td>\n",
       "                        <td id=\"T_e74cc396_f837_11ea_812a_820c6a06c401row0_col2\" class=\"data row0 col2\" >780</td>\n",
       "                        <td id=\"T_e74cc396_f837_11ea_812a_820c6a06c401row0_col3\" class=\"data row0 col3\" >$2,379.77</td>\n",
       "            </tr>\n",
       "    </tbody></table>"
      ],
      "text/plain": [
       "<pandas.io.formats.style.Styler at 0x7fce0a239a30>"
      ]
     },
     "execution_count": 10,
     "metadata": {},
     "output_type": "execute_result"
    }
   ],
   "source": [
    "summary_df = pd.DataFrame({\"Number of Unique Items\": [unique_items], \"Average Price\": [average_price], \"Number of Purchases\": [number_of_purchases], \"Total Revenue\": [total_revenue]})\n",
    "summary_df.style.format({\"Average Price\":\"${:,.2f}\", \"Total Revenue\": \"${:,.2f}\"})"
   ]
  },
  {
   "cell_type": "code",
   "execution_count": 26,
   "metadata": {},
   "outputs": [
    {
     "data": {
      "text/html": [
       "<style  type=\"text/css\" >\n",
       "</style><table id=\"T_6af1f8b8_f871_11ea_812a_820c6a06c401\" ><thead>    <tr>        <th class=\"blank level0\" ></th>        <th class=\"col_heading level0 col0\" >Total Count</th>        <th class=\"col_heading level0 col1\" >Percent of Players</th>    </tr></thead><tbody>\n",
       "                <tr>\n",
       "                        <th id=\"T_6af1f8b8_f871_11ea_812a_820c6a06c401level0_row0\" class=\"row_heading level0 row0\" >Male</th>\n",
       "                        <td id=\"T_6af1f8b8_f871_11ea_812a_820c6a06c401row0_col0\" class=\"data row0 col0\" >652</td>\n",
       "                        <td id=\"T_6af1f8b8_f871_11ea_812a_820c6a06c401row0_col1\" class=\"data row0 col1\" >83.59%</td>\n",
       "            </tr>\n",
       "            <tr>\n",
       "                        <th id=\"T_6af1f8b8_f871_11ea_812a_820c6a06c401level0_row1\" class=\"row_heading level0 row1\" >Female</th>\n",
       "                        <td id=\"T_6af1f8b8_f871_11ea_812a_820c6a06c401row1_col0\" class=\"data row1 col0\" >113</td>\n",
       "                        <td id=\"T_6af1f8b8_f871_11ea_812a_820c6a06c401row1_col1\" class=\"data row1 col1\" >14.49%</td>\n",
       "            </tr>\n",
       "            <tr>\n",
       "                        <th id=\"T_6af1f8b8_f871_11ea_812a_820c6a06c401level0_row2\" class=\"row_heading level0 row2\" >Other / Non-Disclosed</th>\n",
       "                        <td id=\"T_6af1f8b8_f871_11ea_812a_820c6a06c401row2_col0\" class=\"data row2 col0\" >15</td>\n",
       "                        <td id=\"T_6af1f8b8_f871_11ea_812a_820c6a06c401row2_col1\" class=\"data row2 col1\" >1.92%</td>\n",
       "            </tr>\n",
       "    </tbody></table>"
      ],
      "text/plain": [
       "<pandas.io.formats.style.Styler at 0x7fce0b8301c0>"
      ]
     },
     "execution_count": 26,
     "metadata": {},
     "output_type": "execute_result"
    }
   ],
   "source": [
    "# Group all the data by gender\n",
    "gender_data = purchase_df[\"Gender\"].value_counts()\n",
    "# Create a data frame of gender data \n",
    "gender_data_df = pd.DataFrame(gender_data)\n",
    "\n",
    "# Find the percentage of players by taking the total count of each gender and dividing by total players \n",
    "percent_players = (gender_data) / (purchase_df[\"Gender\"].count()) * 100\n",
    "\n",
    "# Create the data frame\n",
    "gender_data_df[\"Percent of Players\"] = percent_players \n",
    "gender_demo_df = pd.DataFrame(gender_data_df)\n",
    "gender_demo_df\n",
    "\n",
    "# Rename the gender column to \"Total Count\" \n",
    "totalcount_demo = gender_demo_df.rename(columns={\"Gender\": \"Total Count\"})\n",
    "totalcount_demo\n",
    "\n",
    "# Format the percent column into percentages \n",
    "totalcount_demo.style.format({\"Percent of Players\":\"{:,.2f}%\"})"
   ]
  },
  {
   "cell_type": "code",
   "execution_count": 60,
   "metadata": {},
   "outputs": [
    {
     "data": {
      "text/html": [
       "<div>\n",
       "<style scoped>\n",
       "    .dataframe tbody tr th:only-of-type {\n",
       "        vertical-align: middle;\n",
       "    }\n",
       "\n",
       "    .dataframe tbody tr th {\n",
       "        vertical-align: top;\n",
       "    }\n",
       "\n",
       "    .dataframe thead th {\n",
       "        text-align: right;\n",
       "    }\n",
       "</style>\n",
       "<table border=\"1\" class=\"dataframe\">\n",
       "  <thead>\n",
       "    <tr style=\"text-align: right;\">\n",
       "      <th></th>\n",
       "      <th>Purchase Count</th>\n",
       "      <th>Average Purchase Price</th>\n",
       "      <th>Total Purchase Price</th>\n",
       "    </tr>\n",
       "    <tr>\n",
       "      <th>Gender</th>\n",
       "      <th></th>\n",
       "      <th></th>\n",
       "      <th></th>\n",
       "    </tr>\n",
       "  </thead>\n",
       "  <tbody>\n",
       "    <tr>\n",
       "      <th>Female</th>\n",
       "      <td>113</td>\n",
       "      <td>3.203009</td>\n",
       "      <td>361.94</td>\n",
       "    </tr>\n",
       "    <tr>\n",
       "      <th>Male</th>\n",
       "      <td>652</td>\n",
       "      <td>3.017853</td>\n",
       "      <td>1967.64</td>\n",
       "    </tr>\n",
       "    <tr>\n",
       "      <th>Other / Non-Disclosed</th>\n",
       "      <td>15</td>\n",
       "      <td>3.346000</td>\n",
       "      <td>50.19</td>\n",
       "    </tr>\n",
       "  </tbody>\n",
       "</table>\n",
       "</div>"
      ],
      "text/plain": [
       "                       Purchase Count  Average Purchase Price  \\\n",
       "Gender                                                          \n",
       "Female                            113                3.203009   \n",
       "Male                              652                3.017853   \n",
       "Other / Non-Disclosed              15                3.346000   \n",
       "\n",
       "                       Total Purchase Price  \n",
       "Gender                                       \n",
       "Female                               361.94  \n",
       "Male                                1967.64  \n",
       "Other / Non-Disclosed                 50.19  "
      ]
     },
     "execution_count": 60,
     "metadata": {},
     "output_type": "execute_result"
    }
   ],
   "source": [
    "# Calculate the purchase count of each gender \n",
    "total_gender_purchase = purchase_df.groupby(\"Gender\")\n",
    "\n",
    "player_count = total_gender_purchase[\"SN\"].count()\n",
    "total_gender_purchase_df = pd.DataFrame(player_count)\n",
    "total_gender_purchase_df \n",
    "\n",
    "#Calculate the average purchase price by gender \n",
    "average_price = total_gender_purchase[\"Price\"].mean()\n",
    "\n",
    "#Calculate the total purchase price by gender \n",
    "purchaseprice_gender = total_gender_purchase[\"Price\"].sum()\n",
    "\n",
    "# Add average purchase price to the table \n",
    "total_gender_purchase_df[\"Average Purchase Price\"] = average_price\n",
    "gender_purchase_df = pd.DataFrame(total_gender_purchase_df)\n",
    "\n",
    "\n",
    "#Calculate the Average Purchase Total per Person by Gender\n",
    "average_totalper = purchaseprice_gender / player_count\n",
    "\n",
    "#Rename the SN column to \"Purchase Count\" \n",
    "gender_purchase_demo_new = gender_purchase_df.rename(columns={\"SN\": \"Purchase Count\"})\n",
    "\n",
    "\n",
    "# Add the total purchase price by gender to the table\n",
    "gender_purchase_demo_new[\"Total Purchase Price\"] = purchaseprice_gender\n",
    "\n",
    "gender_purchase_new = pd.DataFrame(gender_purchase_demo_new)\n",
    "gender_purchase_new\n",
    "\n",
    "# Add the avg purchase total per person by gender \n",
    "\n"
   ]
  },
  {
   "cell_type": "code",
   "execution_count": null,
   "metadata": {},
   "outputs": [],
   "source": []
  }
 ],
 "metadata": {
  "kernelspec": {
   "display_name": "Python 3",
   "language": "python",
   "name": "python3"
  },
  "language_info": {
   "codemirror_mode": {
    "name": "ipython",
    "version": 3
   },
   "file_extension": ".py",
   "mimetype": "text/x-python",
   "name": "python",
   "nbconvert_exporter": "python",
   "pygments_lexer": "ipython3",
   "version": "3.8.3"
  }
 },
 "nbformat": 4,
 "nbformat_minor": 4
}
