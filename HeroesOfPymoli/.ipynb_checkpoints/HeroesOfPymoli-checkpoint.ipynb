{
 "cells": [
  {
   "cell_type": "code",
   "execution_count": 94,
   "metadata": {},
   "outputs": [],
   "source": [
    "import pandas as pd\n",
    "import numpy as np"
   ]
  },
  {
   "cell_type": "code",
   "execution_count": 95,
   "metadata": {},
   "outputs": [],
   "source": [
    "# upload the file\n",
    "file_to_load = \"Resources/purchase_data.csv\""
   ]
  },
  {
   "cell_type": "code",
   "execution_count": 96,
   "metadata": {},
   "outputs": [],
   "source": [
    "# read the file\n",
    "purchase_df = pd.read_csv(file_to_load)"
   ]
  },
  {
   "cell_type": "code",
   "execution_count": 97,
   "metadata": {},
   "outputs": [
    {
     "data": {
      "text/html": [
       "<div>\n",
       "<style scoped>\n",
       "    .dataframe tbody tr th:only-of-type {\n",
       "        vertical-align: middle;\n",
       "    }\n",
       "\n",
       "    .dataframe tbody tr th {\n",
       "        vertical-align: top;\n",
       "    }\n",
       "\n",
       "    .dataframe thead th {\n",
       "        text-align: right;\n",
       "    }\n",
       "</style>\n",
       "<table border=\"1\" class=\"dataframe\">\n",
       "  <thead>\n",
       "    <tr style=\"text-align: right;\">\n",
       "      <th></th>\n",
       "      <th>Purchase ID</th>\n",
       "      <th>SN</th>\n",
       "      <th>Age</th>\n",
       "      <th>Gender</th>\n",
       "      <th>Item ID</th>\n",
       "      <th>Item Name</th>\n",
       "      <th>Price</th>\n",
       "    </tr>\n",
       "  </thead>\n",
       "  <tbody>\n",
       "    <tr>\n",
       "      <th>0</th>\n",
       "      <td>0</td>\n",
       "      <td>Lisim78</td>\n",
       "      <td>20</td>\n",
       "      <td>Male</td>\n",
       "      <td>108</td>\n",
       "      <td>Extraction, Quickblade Of Trembling Hands</td>\n",
       "      <td>3.53</td>\n",
       "    </tr>\n",
       "    <tr>\n",
       "      <th>1</th>\n",
       "      <td>1</td>\n",
       "      <td>Lisovynya38</td>\n",
       "      <td>40</td>\n",
       "      <td>Male</td>\n",
       "      <td>143</td>\n",
       "      <td>Frenzied Scimitar</td>\n",
       "      <td>1.56</td>\n",
       "    </tr>\n",
       "    <tr>\n",
       "      <th>2</th>\n",
       "      <td>2</td>\n",
       "      <td>Ithergue48</td>\n",
       "      <td>24</td>\n",
       "      <td>Male</td>\n",
       "      <td>92</td>\n",
       "      <td>Final Critic</td>\n",
       "      <td>4.88</td>\n",
       "    </tr>\n",
       "    <tr>\n",
       "      <th>3</th>\n",
       "      <td>3</td>\n",
       "      <td>Chamassasya86</td>\n",
       "      <td>24</td>\n",
       "      <td>Male</td>\n",
       "      <td>100</td>\n",
       "      <td>Blindscythe</td>\n",
       "      <td>3.27</td>\n",
       "    </tr>\n",
       "    <tr>\n",
       "      <th>4</th>\n",
       "      <td>4</td>\n",
       "      <td>Iskosia90</td>\n",
       "      <td>23</td>\n",
       "      <td>Male</td>\n",
       "      <td>131</td>\n",
       "      <td>Fury</td>\n",
       "      <td>1.44</td>\n",
       "    </tr>\n",
       "  </tbody>\n",
       "</table>\n",
       "</div>"
      ],
      "text/plain": [
       "   Purchase ID             SN  Age Gender  Item ID  \\\n",
       "0            0        Lisim78   20   Male      108   \n",
       "1            1    Lisovynya38   40   Male      143   \n",
       "2            2     Ithergue48   24   Male       92   \n",
       "3            3  Chamassasya86   24   Male      100   \n",
       "4            4      Iskosia90   23   Male      131   \n",
       "\n",
       "                                   Item Name  Price  \n",
       "0  Extraction, Quickblade Of Trembling Hands   3.53  \n",
       "1                          Frenzied Scimitar   1.56  \n",
       "2                               Final Critic   4.88  \n",
       "3                                Blindscythe   3.27  \n",
       "4                                       Fury   1.44  "
      ]
     },
     "execution_count": 97,
     "metadata": {},
     "output_type": "execute_result"
    }
   ],
   "source": [
    "# print the table for display\n",
    "purchase_df.head()"
   ]
  },
  {
   "cell_type": "code",
   "execution_count": 98,
   "metadata": {},
   "outputs": [
    {
     "data": {
      "text/html": [
       "<div>\n",
       "<style scoped>\n",
       "    .dataframe tbody tr th:only-of-type {\n",
       "        vertical-align: middle;\n",
       "    }\n",
       "\n",
       "    .dataframe tbody tr th {\n",
       "        vertical-align: top;\n",
       "    }\n",
       "\n",
       "    .dataframe thead th {\n",
       "        text-align: right;\n",
       "    }\n",
       "</style>\n",
       "<table border=\"1\" class=\"dataframe\">\n",
       "  <thead>\n",
       "    <tr style=\"text-align: right;\">\n",
       "      <th></th>\n",
       "      <th>Total Players</th>\n",
       "    </tr>\n",
       "  </thead>\n",
       "  <tbody>\n",
       "    <tr>\n",
       "      <th>0</th>\n",
       "      <td>576</td>\n",
       "    </tr>\n",
       "  </tbody>\n",
       "</table>\n",
       "</div>"
      ],
      "text/plain": [
       "   Total Players\n",
       "0            576"
      ]
     },
     "execution_count": 98,
     "metadata": {},
     "output_type": "execute_result"
    }
   ],
   "source": [
    "# Calculate the number of unique total players\n",
    "total_players = len(purchase_df[\"SN\"].unique())\n",
    "# Create a data table with the count above\n",
    "player_count = pd.DataFrame({\"Total Players\": total_players}, index = [0])\n",
    "player_count"
   ]
  },
  {
   "cell_type": "code",
   "execution_count": 100,
   "metadata": {},
   "outputs": [],
   "source": [
    "# Calculate the number of unique items, average price, number of purchases, and the total revenue\n",
    "unique_items = len((purchase_df[\"Item Name\"]).unique())\n",
    "average_price =(purchase_df[\"Price\"]).mean()\n",
    "number_of_purchases = (purchase_df[\"Purchase ID\"]).count()\n",
    "total_revenue = (purchase_df[\"Price\"]).sum()\n"
   ]
  },
  {
   "cell_type": "code",
   "execution_count": 101,
   "metadata": {},
   "outputs": [
    {
     "data": {
      "text/html": [
       "<style  type=\"text/css\" >\n",
       "</style><table id=\"T_12d365b8_f88a_11ea_812a_820c6a06c401\" ><thead>    <tr>        <th class=\"blank level0\" ></th>        <th class=\"col_heading level0 col0\" >Number of Unique Items</th>        <th class=\"col_heading level0 col1\" >Average Price</th>        <th class=\"col_heading level0 col2\" >Number of Purchases</th>        <th class=\"col_heading level0 col3\" >Total Revenue</th>    </tr></thead><tbody>\n",
       "                <tr>\n",
       "                        <th id=\"T_12d365b8_f88a_11ea_812a_820c6a06c401level0_row0\" class=\"row_heading level0 row0\" >0</th>\n",
       "                        <td id=\"T_12d365b8_f88a_11ea_812a_820c6a06c401row0_col0\" class=\"data row0 col0\" >179</td>\n",
       "                        <td id=\"T_12d365b8_f88a_11ea_812a_820c6a06c401row0_col1\" class=\"data row0 col1\" >$3.05</td>\n",
       "                        <td id=\"T_12d365b8_f88a_11ea_812a_820c6a06c401row0_col2\" class=\"data row0 col2\" >780</td>\n",
       "                        <td id=\"T_12d365b8_f88a_11ea_812a_820c6a06c401row0_col3\" class=\"data row0 col3\" >$2,379.77</td>\n",
       "            </tr>\n",
       "    </tbody></table>"
      ],
      "text/plain": [
       "<pandas.io.formats.style.Styler at 0x7fce0ba09760>"
      ]
     },
     "execution_count": 101,
     "metadata": {},
     "output_type": "execute_result"
    }
   ],
   "source": [
    "summary_df = pd.DataFrame({\"Number of Unique Items\": [unique_items], \"Average Price\": [average_price], \"Number of Purchases\": [number_of_purchases], \"Total Revenue\": [total_revenue]})\n",
    "summary_df.style.format({\"Average Price\":\"${:,.2f}\", \"Total Revenue\": \"${:,.2f}\"})"
   ]
  },
  {
   "cell_type": "code",
   "execution_count": 26,
   "metadata": {},
   "outputs": [
    {
     "data": {
      "text/html": [
       "<style  type=\"text/css\" >\n",
       "</style><table id=\"T_6af1f8b8_f871_11ea_812a_820c6a06c401\" ><thead>    <tr>        <th class=\"blank level0\" ></th>        <th class=\"col_heading level0 col0\" >Total Count</th>        <th class=\"col_heading level0 col1\" >Percent of Players</th>    </tr></thead><tbody>\n",
       "                <tr>\n",
       "                        <th id=\"T_6af1f8b8_f871_11ea_812a_820c6a06c401level0_row0\" class=\"row_heading level0 row0\" >Male</th>\n",
       "                        <td id=\"T_6af1f8b8_f871_11ea_812a_820c6a06c401row0_col0\" class=\"data row0 col0\" >652</td>\n",
       "                        <td id=\"T_6af1f8b8_f871_11ea_812a_820c6a06c401row0_col1\" class=\"data row0 col1\" >83.59%</td>\n",
       "            </tr>\n",
       "            <tr>\n",
       "                        <th id=\"T_6af1f8b8_f871_11ea_812a_820c6a06c401level0_row1\" class=\"row_heading level0 row1\" >Female</th>\n",
       "                        <td id=\"T_6af1f8b8_f871_11ea_812a_820c6a06c401row1_col0\" class=\"data row1 col0\" >113</td>\n",
       "                        <td id=\"T_6af1f8b8_f871_11ea_812a_820c6a06c401row1_col1\" class=\"data row1 col1\" >14.49%</td>\n",
       "            </tr>\n",
       "            <tr>\n",
       "                        <th id=\"T_6af1f8b8_f871_11ea_812a_820c6a06c401level0_row2\" class=\"row_heading level0 row2\" >Other / Non-Disclosed</th>\n",
       "                        <td id=\"T_6af1f8b8_f871_11ea_812a_820c6a06c401row2_col0\" class=\"data row2 col0\" >15</td>\n",
       "                        <td id=\"T_6af1f8b8_f871_11ea_812a_820c6a06c401row2_col1\" class=\"data row2 col1\" >1.92%</td>\n",
       "            </tr>\n",
       "    </tbody></table>"
      ],
      "text/plain": [
       "<pandas.io.formats.style.Styler at 0x7fce0b8301c0>"
      ]
     },
     "execution_count": 26,
     "metadata": {},
     "output_type": "execute_result"
    }
   ],
   "source": [
    "# Group all the data by gender\n",
    "gender_data = purchase_df[\"Gender\"].value_counts()\n",
    "# Create a data frame of gender data \n",
    "gender_data_df = pd.DataFrame(gender_data)\n",
    "\n",
    "# Find the percentage of players by taking the total count of each gender and dividing by total players \n",
    "percent_players = (gender_data) / (purchase_df[\"Gender\"].count()) * 100\n",
    "\n",
    "# Create the data frame\n",
    "gender_data_df[\"Percent of Players\"] = percent_players \n",
    "gender_demo_df = pd.DataFrame(gender_data_df)\n",
    "gender_demo_df\n",
    "\n",
    "# Rename the gender column to \"Total Count\" \n",
    "totalcount_demo = gender_demo_df.rename(columns={\"Gender\": \"Total Count\"})\n",
    "totalcount_demo\n",
    "\n",
    "# Format the percent column into percentages \n",
    "totalcount_demo.style.format({\"Percent of Players\":\"{:,.2f}%\"})"
   ]
  },
  {
   "cell_type": "code",
   "execution_count": 102,
   "metadata": {},
   "outputs": [
    {
     "data": {
      "text/html": [
       "<style  type=\"text/css\" >\n",
       "</style><table id=\"T_169ac63c_f88a_11ea_812a_820c6a06c401\" ><thead>    <tr>        <th class=\"blank level0\" ></th>        <th class=\"col_heading level0 col0\" >Purchase Count</th>        <th class=\"col_heading level0 col1\" >Average Purchase Price</th>        <th class=\"col_heading level0 col2\" >Total Purchase Price</th>        <th class=\"col_heading level0 col3\" >Average Purchase Total per Person by Gender</th>    </tr>    <tr>        <th class=\"index_name level0\" >Gender</th>        <th class=\"blank\" ></th>        <th class=\"blank\" ></th>        <th class=\"blank\" ></th>        <th class=\"blank\" ></th>    </tr></thead><tbody>\n",
       "                <tr>\n",
       "                        <th id=\"T_169ac63c_f88a_11ea_812a_820c6a06c401level0_row0\" class=\"row_heading level0 row0\" >Female</th>\n",
       "                        <td id=\"T_169ac63c_f88a_11ea_812a_820c6a06c401row0_col0\" class=\"data row0 col0\" >113</td>\n",
       "                        <td id=\"T_169ac63c_f88a_11ea_812a_820c6a06c401row0_col1\" class=\"data row0 col1\" >$3.20</td>\n",
       "                        <td id=\"T_169ac63c_f88a_11ea_812a_820c6a06c401row0_col2\" class=\"data row0 col2\" >$361.94</td>\n",
       "                        <td id=\"T_169ac63c_f88a_11ea_812a_820c6a06c401row0_col3\" class=\"data row0 col3\" >$3.20</td>\n",
       "            </tr>\n",
       "            <tr>\n",
       "                        <th id=\"T_169ac63c_f88a_11ea_812a_820c6a06c401level0_row1\" class=\"row_heading level0 row1\" >Male</th>\n",
       "                        <td id=\"T_169ac63c_f88a_11ea_812a_820c6a06c401row1_col0\" class=\"data row1 col0\" >652</td>\n",
       "                        <td id=\"T_169ac63c_f88a_11ea_812a_820c6a06c401row1_col1\" class=\"data row1 col1\" >$3.02</td>\n",
       "                        <td id=\"T_169ac63c_f88a_11ea_812a_820c6a06c401row1_col2\" class=\"data row1 col2\" >$1,967.64</td>\n",
       "                        <td id=\"T_169ac63c_f88a_11ea_812a_820c6a06c401row1_col3\" class=\"data row1 col3\" >$3.02</td>\n",
       "            </tr>\n",
       "            <tr>\n",
       "                        <th id=\"T_169ac63c_f88a_11ea_812a_820c6a06c401level0_row2\" class=\"row_heading level0 row2\" >Other / Non-Disclosed</th>\n",
       "                        <td id=\"T_169ac63c_f88a_11ea_812a_820c6a06c401row2_col0\" class=\"data row2 col0\" >15</td>\n",
       "                        <td id=\"T_169ac63c_f88a_11ea_812a_820c6a06c401row2_col1\" class=\"data row2 col1\" >$3.35</td>\n",
       "                        <td id=\"T_169ac63c_f88a_11ea_812a_820c6a06c401row2_col2\" class=\"data row2 col2\" >$50.19</td>\n",
       "                        <td id=\"T_169ac63c_f88a_11ea_812a_820c6a06c401row2_col3\" class=\"data row2 col3\" >$3.35</td>\n",
       "            </tr>\n",
       "    </tbody></table>"
      ],
      "text/plain": [
       "<pandas.io.formats.style.Styler at 0x7fce0b856e80>"
      ]
     },
     "execution_count": 102,
     "metadata": {},
     "output_type": "execute_result"
    }
   ],
   "source": [
    "# Calculate the purchase count of each gender \n",
    "total_gender_purchase = purchase_df.groupby(\"Gender\")\n",
    "\n",
    "player_count = total_gender_purchase[\"SN\"].count()\n",
    "total_gender_purchase_df = pd.DataFrame(player_count)\n",
    "total_gender_purchase_df \n",
    "\n",
    "#Calculate the average purchase price by gender \n",
    "average_price = total_gender_purchase[\"Price\"].mean()\n",
    "\n",
    "#Calculate the total purchase price by gender \n",
    "purchaseprice_gender = total_gender_purchase[\"Price\"].sum()\n",
    "\n",
    "# Add average purchase price to the table \n",
    "total_gender_purchase_df[\"Average Purchase Price\"] = average_price\n",
    "gender_purchase_df = pd.DataFrame(total_gender_purchase_df)\n",
    "\n",
    "\n",
    "#Calculate the Average Purchase Total per Person by Gender\n",
    "average_totalper = purchaseprice_gender / player_count\n",
    "\n",
    "#Rename the SN column to \"Purchase Count\" \n",
    "gender_purchase_demo_new = gender_purchase_df.rename(columns={\"SN\": \"Purchase Count\"})\n",
    "\n",
    "\n",
    "# Add the total purchase price by gender to the table\n",
    "gender_purchase_demo_new[\"Total Purchase Price\"] = purchaseprice_gender\n",
    "\n",
    "gender_purchase_new = pd.DataFrame(gender_purchase_demo_new)\n",
    "gender_purchase_new\n",
    "\n",
    "# Add the avg purchase total per person by gender \n",
    "gender_purchase_new[\"Average Purchase Total per Person by Gender\"] = average_totalper\n",
    "gender_purchase_new\n",
    "\n",
    "#Format the table to have dollar signs \n",
    "gender_purchase_new.style.format({\"Average Purchase Price\":\"${:,.2f}\", \"Total Purchase Price\":\"${:,.2f}\",\"Average Purchase Total per Person by Gender\":\"${:,.2f}\" })"
   ]
  },
  {
   "cell_type": "code",
   "execution_count": 160,
   "metadata": {},
   "outputs": [
    {
     "data": {
      "text/html": [
       "<style  type=\"text/css\" >\n",
       "</style><table id=\"T_b299ad70_f892_11ea_812a_820c6a06c401\" ><thead>    <tr>        <th class=\"blank level0\" ></th>        <th class=\"col_heading level0 col0\" >Total Count</th>        <th class=\"col_heading level0 col1\" >Percentage of Players</th>    </tr>    <tr>        <th class=\"index_name level0\" >Age Ranges</th>        <th class=\"blank\" ></th>        <th class=\"blank\" ></th>    </tr></thead><tbody>\n",
       "                <tr>\n",
       "                        <th id=\"T_b299ad70_f892_11ea_812a_820c6a06c401level0_row0\" class=\"row_heading level0 row0\" ><10</th>\n",
       "                        <td id=\"T_b299ad70_f892_11ea_812a_820c6a06c401row0_col0\" class=\"data row0 col0\" >24</td>\n",
       "                        <td id=\"T_b299ad70_f892_11ea_812a_820c6a06c401row0_col1\" class=\"data row0 col1\" >3.08%</td>\n",
       "            </tr>\n",
       "            <tr>\n",
       "                        <th id=\"T_b299ad70_f892_11ea_812a_820c6a06c401level0_row1\" class=\"row_heading level0 row1\" >10-14</th>\n",
       "                        <td id=\"T_b299ad70_f892_11ea_812a_820c6a06c401row1_col0\" class=\"data row1 col0\" >41</td>\n",
       "                        <td id=\"T_b299ad70_f892_11ea_812a_820c6a06c401row1_col1\" class=\"data row1 col1\" >5.26%</td>\n",
       "            </tr>\n",
       "            <tr>\n",
       "                        <th id=\"T_b299ad70_f892_11ea_812a_820c6a06c401level0_row2\" class=\"row_heading level0 row2\" >15-19</th>\n",
       "                        <td id=\"T_b299ad70_f892_11ea_812a_820c6a06c401row2_col0\" class=\"data row2 col0\" >150</td>\n",
       "                        <td id=\"T_b299ad70_f892_11ea_812a_820c6a06c401row2_col1\" class=\"data row2 col1\" >19.23%</td>\n",
       "            </tr>\n",
       "            <tr>\n",
       "                        <th id=\"T_b299ad70_f892_11ea_812a_820c6a06c401level0_row3\" class=\"row_heading level0 row3\" >20-24</th>\n",
       "                        <td id=\"T_b299ad70_f892_11ea_812a_820c6a06c401row3_col0\" class=\"data row3 col0\" >232</td>\n",
       "                        <td id=\"T_b299ad70_f892_11ea_812a_820c6a06c401row3_col1\" class=\"data row3 col1\" >29.74%</td>\n",
       "            </tr>\n",
       "            <tr>\n",
       "                        <th id=\"T_b299ad70_f892_11ea_812a_820c6a06c401level0_row4\" class=\"row_heading level0 row4\" >25-29</th>\n",
       "                        <td id=\"T_b299ad70_f892_11ea_812a_820c6a06c401row4_col0\" class=\"data row4 col0\" >59</td>\n",
       "                        <td id=\"T_b299ad70_f892_11ea_812a_820c6a06c401row4_col1\" class=\"data row4 col1\" >7.56%</td>\n",
       "            </tr>\n",
       "            <tr>\n",
       "                        <th id=\"T_b299ad70_f892_11ea_812a_820c6a06c401level0_row5\" class=\"row_heading level0 row5\" >30-34</th>\n",
       "                        <td id=\"T_b299ad70_f892_11ea_812a_820c6a06c401row5_col0\" class=\"data row5 col0\" >37</td>\n",
       "                        <td id=\"T_b299ad70_f892_11ea_812a_820c6a06c401row5_col1\" class=\"data row5 col1\" >4.74%</td>\n",
       "            </tr>\n",
       "            <tr>\n",
       "                        <th id=\"T_b299ad70_f892_11ea_812a_820c6a06c401level0_row6\" class=\"row_heading level0 row6\" >35-39</th>\n",
       "                        <td id=\"T_b299ad70_f892_11ea_812a_820c6a06c401row6_col0\" class=\"data row6 col0\" >26</td>\n",
       "                        <td id=\"T_b299ad70_f892_11ea_812a_820c6a06c401row6_col1\" class=\"data row6 col1\" >3.33%</td>\n",
       "            </tr>\n",
       "            <tr>\n",
       "                        <th id=\"T_b299ad70_f892_11ea_812a_820c6a06c401level0_row7\" class=\"row_heading level0 row7\" >40+</th>\n",
       "                        <td id=\"T_b299ad70_f892_11ea_812a_820c6a06c401row7_col0\" class=\"data row7 col0\" >7</td>\n",
       "                        <td id=\"T_b299ad70_f892_11ea_812a_820c6a06c401row7_col1\" class=\"data row7 col1\" >0.90%</td>\n",
       "            </tr>\n",
       "    </tbody></table>"
      ],
      "text/plain": [
       "<pandas.io.formats.style.Styler at 0x7fce0b830d90>"
      ]
     },
     "execution_count": 160,
     "metadata": {},
     "output_type": "execute_result"
    }
   ],
   "source": [
    "\n",
    "# Establish bins for each age group <10, 10-14, 15-19, 20-24, 25-29, 30-34, 35-39, 40+\n",
    "bins = [1, 10, 15, 20, 25, 30, 35, 40, 100]\n",
    "age_groups = [\"<10\", \"10-14\", \"15-19\", \"20-24\", \"25-29\", \"30-34\", \"35-39\", \"40+\"]\n",
    "\n",
    "purchase_df = pd.read_csv(file_to_load)\n",
    "unique_ages = purchase_df.loc[:,[\"Gender\",\"SN\",\"Age\"]]\n",
    "unique_ages = unique_ages.drop_duplicates()\n",
    "\n",
    "unique_ages[\"Age Ranges\"] = pd.cut(unique_ages[\"Age\"], bins, labels=age_groups)\n",
    "unique_ages = unique_ages.groupby([\"Age Ranges\"])\n",
    "\n",
    "age_count = unique_ages[\"SN\"].count()\n",
    "age_total = purchase_df[\"SN\"].count()\n",
    "age_percent = (age_count / age_total) * 100\n",
    "\n",
    "age_demo_df = pd.DataFrame({\"Total Count\": age_count, \"Percentage of Players\": age_percent})\n",
    "\n",
    "#Format the percentage\n",
    "age_demo_df.style.format({\"Percentage of Players\":\"{:,.2f}%\"})\n",
    "\n",
    "\n",
    "\n"
   ]
  },
  {
   "cell_type": "code",
   "execution_count": null,
   "metadata": {},
   "outputs": [],
   "source": []
  },
  {
   "cell_type": "code",
   "execution_count": null,
   "metadata": {},
   "outputs": [],
   "source": []
  }
 ],
 "metadata": {
  "kernelspec": {
   "display_name": "Python 3",
   "language": "python",
   "name": "python3"
  },
  "language_info": {
   "codemirror_mode": {
    "name": "ipython",
    "version": 3
   },
   "file_extension": ".py",
   "mimetype": "text/x-python",
   "name": "python",
   "nbconvert_exporter": "python",
   "pygments_lexer": "ipython3",
   "version": "3.8.3"
  }
 },
 "nbformat": 4,
 "nbformat_minor": 4
}
